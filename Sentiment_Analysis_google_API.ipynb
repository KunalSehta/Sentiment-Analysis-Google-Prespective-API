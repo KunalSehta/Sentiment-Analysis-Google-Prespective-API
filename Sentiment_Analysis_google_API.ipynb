{
 "cells": [
  {
   "cell_type": "code",
   "execution_count": 14,
   "metadata": {},
   "outputs": [
    {
     "data": {
      "text/html": [
       "<div>\n",
       "<style scoped>\n",
       "    .dataframe tbody tr th:only-of-type {\n",
       "        vertical-align: middle;\n",
       "    }\n",
       "\n",
       "    .dataframe tbody tr th {\n",
       "        vertical-align: top;\n",
       "    }\n",
       "\n",
       "    .dataframe thead th {\n",
       "        text-align: right;\n",
       "    }\n",
       "</style>\n",
       "<table border=\"1\" class=\"dataframe\">\n",
       "  <thead>\n",
       "    <tr style=\"text-align: right;\">\n",
       "      <th></th>\n",
       "      <th>Comment</th>\n",
       "      <th>Label</th>\n",
       "    </tr>\n",
       "  </thead>\n",
       "  <tbody>\n",
       "    <tr>\n",
       "      <th>0</th>\n",
       "      <td>The COVID-19 vaccines don't work because you c...</td>\n",
       "      <td>1</td>\n",
       "    </tr>\n",
       "    <tr>\n",
       "      <th>1</th>\n",
       "      <td>Get ready for those mandates. No vaccine? No j...</td>\n",
       "      <td>0</td>\n",
       "    </tr>\n",
       "    <tr>\n",
       "      <th>2</th>\n",
       "      <td>You cannot mandate something that isn't 100% y...</td>\n",
       "      <td>1</td>\n",
       "    </tr>\n",
       "    <tr>\n",
       "      <th>3</th>\n",
       "      <td>COVID-19 vaccines cause infertility or miscarr...</td>\n",
       "      <td>1</td>\n",
       "    </tr>\n",
       "    <tr>\n",
       "      <th>4</th>\n",
       "      <td>It's better to lose your job than take these e...</td>\n",
       "      <td>1</td>\n",
       "    </tr>\n",
       "  </tbody>\n",
       "</table>\n",
       "</div>"
      ],
      "text/plain": [
       "                                             Comment  Label\n",
       "0  The COVID-19 vaccines don't work because you c...      1\n",
       "1  Get ready for those mandates. No vaccine? No j...      0\n",
       "2  You cannot mandate something that isn't 100% y...      1\n",
       "3  COVID-19 vaccines cause infertility or miscarr...      1\n",
       "4  It's better to lose your job than take these e...      1"
      ]
     },
     "execution_count": 14,
     "metadata": {},
     "output_type": "execute_result"
    }
   ],
   "source": [
    "from googleapiclient import discovery\n",
    "import json\n",
    "import pandas as pd\n",
    "df = pd.read_csv(\"C:/Users/kseht/Desktop/UH Fall 2021/Cloud Compting/Assignments/Assignment 4/comment.csv\")\n",
    "df.head()"
   ]
  },
  {
   "cell_type": "code",
   "execution_count": 1,
   "metadata": {},
   "outputs": [
    {
     "ename": "NameError",
     "evalue": "name 'discovery' is not defined",
     "output_type": "error",
     "traceback": [
      "\u001b[1;31m---------------------------------------------------------------------------\u001b[0m",
      "\u001b[1;31mNameError\u001b[0m                                 Traceback (most recent call last)",
      "\u001b[1;32m<ipython-input-1-a18e216eb282>\u001b[0m in \u001b[0;36m<module>\u001b[1;34m\u001b[0m\n\u001b[0;32m      2\u001b[0m \u001b[1;33m\u001b[0m\u001b[0m\n\u001b[0;32m      3\u001b[0m \u001b[1;33m\u001b[0m\u001b[0m\n\u001b[1;32m----> 4\u001b[1;33m client = discovery.build(\n\u001b[0m\u001b[0;32m      5\u001b[0m   \u001b[1;34m\"commentanalyzer\"\u001b[0m\u001b[1;33m,\u001b[0m\u001b[1;33m\u001b[0m\u001b[1;33m\u001b[0m\u001b[0m\n\u001b[0;32m      6\u001b[0m   \u001b[1;34m\"v1alpha1\"\u001b[0m\u001b[1;33m,\u001b[0m\u001b[1;33m\u001b[0m\u001b[1;33m\u001b[0m\u001b[0m\n",
      "\u001b[1;31mNameError\u001b[0m: name 'discovery' is not defined"
     ]
    }
   ],
   "source": [
    "API_KEY = ''\n",
    "\n",
    "\n",
    "client = discovery.build(\n",
    "  \"commentanalyzer\",\n",
    "  \"v1alpha1\",\n",
    "  developerKey=API_KEY,\n",
    "  discoveryServiceUrl=\"https://commentanalyzer.googleapis.com/$discovery/rest?version=v1alpha1\",\n",
    "  static_discovery=False,\n",
    ")\n",
    "toxicity = []\n",
    "sevre_toxicity = []\n",
    "identity_attack = []\n",
    "insult = []\n",
    "profanity = []\n",
    "threat = []\n",
    "\n",
    "\n",
    "for i in range(0,10):\n",
    "    analyze_request = {\n",
    "        'comment': { 'text': df['Comment'].values[i] },\n",
    "        'requestedAttributes': {'TOXICITY': {},'SEVERE_TOXICITY':{},'IDENTITY_ATTACK':{},'INSULT': {}, 'PROFANITY': {},'THREAT': {}}\n",
    "    }\n",
    "    response = client.comments().analyze(body=analyze_request).execute()\n",
    "    toxicity_response = response[\"attributeScores\"][\"TOXICITY\"][\"spanScores\"][0][\"score\"][\"value\"]\n",
    "    sevre_toxicity_response = response[\"attributeScores\"][\"SEVERE_TOXICITY\"][\"spanScores\"][0][\"score\"][\"value\"]\n",
    "    identity_attack_response = response[\"attributeScores\"][\"IDENTITY_ATTACK\"][\"spanScores\"][0][\"score\"][\"value\"]\n",
    "    insult_response = response[\"attributeScores\"][\"INSULT\"][\"spanScores\"][0][\"score\"][\"value\"]\n",
    "    profanity_response = response[\"attributeScores\"][\"PROFANITY\"][\"spanScores\"][0][\"score\"][\"value\"]\n",
    "    threat_response = response[\"attributeScores\"][\"THREAT\"][\"spanScores\"][0][\"score\"][\"value\"]\n",
    "    \n",
    "    toxicity.append(toxicity_response)\n",
    "    sevre_toxicity.append(sevre_toxicity_response)\n",
    "    identity_attack.append(identity_attack_response)\n",
    "    insult.append(insult_response)\n",
    "    profanity.append(profanity_response)\n",
    "    threat.append(threat_response)\n",
    "    \n",
    "df[\"Toxicity\"] = toxicity\n",
    "df[\"Severe Toxicity\"] = sevre_toxicity\n",
    "df[\"Identity Attack\"] = identity_attack\n",
    "df[\"Insult\"] = insult\n",
    "df[\"Profanity\"] = profanity\n",
    "df[\"Threat\"] = threat\n",
    "df.to_csv(\"Task 3 Result Analysis.csv\")"
   ]
  }
 ],
 "metadata": {
  "kernelspec": {
   "display_name": "Python 3",
   "language": "python",
   "name": "python3"
  },
  "language_info": {
   "codemirror_mode": {
    "name": "ipython",
    "version": 3
   },
   "file_extension": ".py",
   "mimetype": "text/x-python",
   "name": "python",
   "nbconvert_exporter": "python",
   "pygments_lexer": "ipython3",
   "version": "3.8.5"
  }
 },
 "nbformat": 4,
 "nbformat_minor": 4
}
